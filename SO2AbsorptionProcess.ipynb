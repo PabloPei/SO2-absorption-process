{
  "cells": [
    {
      "cell_type": "markdown",
      "metadata": {
        "id": "-UNowMt2V2Gu"
      },
      "source": [
        "\n",
        "```\n",
        "\n",
        "# Proceso de absorción de SO<sub> 2 </sub>|\n",
        "El proceso consiste en la separación del SO2 presente en una corriente de aire. Para lograrlo se utiliza una torre absorbedora y agua como solvente. La corriente líquida que sale del equipo (Agua + SO2 ) es transportada a un tanque de almacenamiento.\n",
        "\n",
        "## 1. Objetivo\n",
        "\n",
        "Obtener la pérdida de carga en el tramo de cañería que conecta el fondo de la torre con el tanque de almacenamiento por donde circula la corriente líquida.<br>\n",
        "Realizar los cálculos a distintas condiciones de diseño y operación (longitud, diámetro de la cañería, temperatura, velocidad).\n"
      ]
    },
    {
      "cell_type": "markdown",
      "metadata": {
        "id": "yFl8SWr9V2Gu"
      },
      "source": [
        "## Conceptos teóricos\n",
        "### Mecánica de fluidos\n"
      ]
    },
    {
      "cell_type": "markdown",
      "metadata": {
        "id": "2f4ti_GaV2Gu"
      },
      "source": [
        "**Pérdida de carga**<br>La pérdida de carga en una cañería es la pérdida de presión que se produce debido a la fricción de las partículas del fluido entre sí y contra las paredes de ésta. Experimentalmente se observa que la pérdida de carga es proporcional al cuadrado de la velocidad promedio del fluido, al largo de la cañería e inversamente proporcional al diámetro.\n",
        "$$\\Delta P = f\\frac{L}{D}\\frac{v^2}{2}\\rho$$\n",
        "\n",
        "\n",
        "$$L = longitud\\,de\\,la\\,cañería.$$$$D = diámetro\\,de\\,la\\,cañería.$$$$v = velocidad\\,del\\,fluido.$$$$f = factor\\,de\\,fricción.$$$$ \\rho = densidad\\,del\\,fluido.$$"
      ]
    },
    {
      "cell_type": "markdown",
      "metadata": {
        "id": "5wCB2W8jV2Gu"
      },
      "source": [
        "**coeficiente de fricción** <br>\n",
        "El factor de proporcionalidad es el coeficiente de fricción (f). Su cálculo depende del régimen de flujo del fluido.<br>Cuando el fluido se encuentra en la zona de transición de flujo laminar a flujo turbulento y flujo turbulento, se utiliza la expresión de la fórmula de Colebrook-White:\n",
        "$$\\frac{1}{\\sqrt{f}}=-2log_{10}\\left [ \\frac{\\epsilon/D}{3,7}+\\frac{2,51}{Re\\sqrt{f}} \\right ]$$\n",
        "\n",
        "$$\\epsilon = rugosidad\\,de\\,la\\,cañería$$$$D = diámetro\\,de\\,la\\,cañería$$$$Re = número\\,de\\,Reynolds$$\n",
        "\n"
      ]
    },
    {
      "cell_type": "markdown",
      "metadata": {
        "id": "-hvcl3zSV2Gu"
      },
      "source": [
        "**Número de Reynolds**<br>El número de Reynolds es un parámetro adimensional que surge a partir de la relación entre las fuerzas de inercia y las fuerzas viscosas. Es función de la velocidad del fluido, de su densidad, viscosidad y de una longitud característica. Para una cañería esta longitud carcterística es el diámetro.\n",
        "\n",
        "$$Re = \\frac{\\rho.v.D}{\\mu}$$\n",
        "\n",
        "$$ \\rho = densidad$$$$ \\mu = viscosidad$$$$D = diámetro$$$$v = velocidad$$"
      ]
    },
    {
      "cell_type": "markdown",
      "metadata": {
        "id": "qDKZNqQwV2Gv"
      },
      "source": [
        "**Densidad del fluido**<br> La densidad del fluido será calculada realizando una interpolación con los datos de la siguiente taba:"
      ]
    },
    {
      "cell_type": "code",
      "execution_count": null,
      "metadata": {
        "id": "xb8Do3L4V2Gv",
        "outputId": "3c3f3e86-1e26-4963-b489-c8f7c28eb9c7"
      },
      "outputs": [
        {
          "data": {
            "text/html": [
              "<div>\n",
              "<style scoped>\n",
              "    .dataframe tbody tr th:only-of-type {\n",
              "        vertical-align: middle;\n",
              "    }\n",
              "\n",
              "    .dataframe tbody tr th {\n",
              "        vertical-align: top;\n",
              "    }\n",
              "\n",
              "    .dataframe thead th {\n",
              "        text-align: right;\n",
              "    }\n",
              "</style>\n",
              "<table border=\"1\" class=\"dataframe\">\n",
              "  <thead>\n",
              "    <tr style=\"text-align: right;\">\n",
              "      <th></th>\n",
              "      <th>Temperatura [°C]</th>\n",
              "      <th>Densidad[kg/m3]</th>\n",
              "    </tr>\n",
              "  </thead>\n",
              "  <tbody>\n",
              "    <tr>\n",
              "      <th>0</th>\n",
              "      <td>1</td>\n",
              "      <td>999.70</td>\n",
              "    </tr>\n",
              "    <tr>\n",
              "      <th>1</th>\n",
              "      <td>3</td>\n",
              "      <td>999.98</td>\n",
              "    </tr>\n",
              "    <tr>\n",
              "      <th>2</th>\n",
              "      <td>8</td>\n",
              "      <td>999.91</td>\n",
              "    </tr>\n",
              "    <tr>\n",
              "      <th>3</th>\n",
              "      <td>10</td>\n",
              "      <td>999.77</td>\n",
              "    </tr>\n",
              "    <tr>\n",
              "      <th>4</th>\n",
              "      <td>15</td>\n",
              "      <td>999.19</td>\n",
              "    </tr>\n",
              "    <tr>\n",
              "      <th>5</th>\n",
              "      <td>18</td>\n",
              "      <td>999.60</td>\n",
              "    </tr>\n",
              "    <tr>\n",
              "      <th>6</th>\n",
              "      <td>20</td>\n",
              "      <td>998.29</td>\n",
              "    </tr>\n",
              "    <tr>\n",
              "      <th>7</th>\n",
              "      <td>24</td>\n",
              "      <td>997.38</td>\n",
              "    </tr>\n",
              "    <tr>\n",
              "      <th>8</th>\n",
              "      <td>28</td>\n",
              "      <td>996.31</td>\n",
              "    </tr>\n",
              "    <tr>\n",
              "      <th>9</th>\n",
              "      <td>30</td>\n",
              "      <td>995.72</td>\n",
              "    </tr>\n",
              "    <tr>\n",
              "      <th>10</th>\n",
              "      <td>35</td>\n",
              "      <td>993.08</td>\n",
              "    </tr>\n",
              "    <tr>\n",
              "      <th>11</th>\n",
              "      <td>37</td>\n",
              "      <td>993.37</td>\n",
              "    </tr>\n",
              "    <tr>\n",
              "      <th>12</th>\n",
              "      <td>40</td>\n",
              "      <td>992.25</td>\n",
              "    </tr>\n",
              "    <tr>\n",
              "      <th>13</th>\n",
              "      <td>45</td>\n",
              "      <td>990.22</td>\n",
              "    </tr>\n",
              "    <tr>\n",
              "      <th>14</th>\n",
              "      <td>50</td>\n",
              "      <td>988.02</td>\n",
              "    </tr>\n",
              "    <tr>\n",
              "      <th>15</th>\n",
              "      <td>52</td>\n",
              "      <td>985.09</td>\n",
              "    </tr>\n",
              "    <tr>\n",
              "      <th>16</th>\n",
              "      <td>55</td>\n",
              "      <td>985.65</td>\n",
              "    </tr>\n",
              "    <tr>\n",
              "      <th>17</th>\n",
              "      <td>58</td>\n",
              "      <td>984.16</td>\n",
              "    </tr>\n",
              "    <tr>\n",
              "      <th>18</th>\n",
              "      <td>60</td>\n",
              "      <td>983.13</td>\n",
              "    </tr>\n",
              "    <tr>\n",
              "      <th>19</th>\n",
              "      <td>65</td>\n",
              "      <td>980.45</td>\n",
              "    </tr>\n",
              "    <tr>\n",
              "      <th>20</th>\n",
              "      <td>70</td>\n",
              "      <td>977.63</td>\n",
              "    </tr>\n",
              "    <tr>\n",
              "      <th>21</th>\n",
              "      <td>72</td>\n",
              "      <td>976.47</td>\n",
              "    </tr>\n",
              "  </tbody>\n",
              "</table>\n",
              "</div>"
            ],
            "text/plain": [
              "    Temperatura [°C]  Densidad[kg/m3]\n",
              "0                  1           999.70\n",
              "1                  3           999.98\n",
              "2                  8           999.91\n",
              "3                 10           999.77\n",
              "4                 15           999.19\n",
              "5                 18           999.60\n",
              "6                 20           998.29\n",
              "7                 24           997.38\n",
              "8                 28           996.31\n",
              "9                 30           995.72\n",
              "10                35           993.08\n",
              "11                37           993.37\n",
              "12                40           992.25\n",
              "13                45           990.22\n",
              "14                50           988.02\n",
              "15                52           985.09\n",
              "16                55           985.65\n",
              "17                58           984.16\n",
              "18                60           983.13\n",
              "19                65           980.45\n",
              "20                70           977.63\n",
              "21                72           976.47"
            ]
          },
          "execution_count": 10,
          "metadata": {},
          "output_type": "execute_result"
        }
      ],
      "source": [
        "densidad=pd.read_csv('Densidad.csv')\n",
        "densidad"
      ]
    },
    {
      "cell_type": "markdown",
      "metadata": {
        "id": "IAkc_CX7V2Gw"
      },
      "source": [
        "**Absorción de gases**<br> La absorción de gases es una operación extensamente utilizada en la industria para la separación de corrientes de gas. Una mezcla gaseosa se pone en contacto con un líquido (solvente), a fin de disolver de manera selectiva uno o más componentes del gas (soluto) y de obtener una solución de éstos en el líquido.\n",
        "Un equipo que se utiliza con frecuencia para este proceso es la torre empacada. El equipo es una columna cilíndrica que cuenta con entradas y saldias de las corrientes gaseosas y líquidas que circulan por la torre y un empaque o relleno.\n",
        "\n",
        "La altura de la columna depende de la magnitud de los cambios buscados en la concentración y de la velocidad de transferencia de una sustancia de una fase a la otra (gas a líquido). La ecuación general de diseño para el cálculo de la altura (Z) es la siguiente:\n",
        "\n",
        "$$Z = \\int_{y_e}^{y_s}\\frac{G}{SKy_a}\\frac{1}{(1-y)(y-y*)}dy$$"
      ]
    },
    {
      "cell_type": "markdown",
      "metadata": {
        "id": "tXllpJnHV2Gw"
      },
      "source": [
        "G = flujo de gas total (aire + SO<sub> 2 </sub>)<br>\n",
        "S = sección transversal de la torre<br>\n",
        "Ky<sub> a </sub> = coeficiente de transferencia de masa<br>\n",
        "y = fracción molar de SO<sub> 2 </sub><br>\n",
        "y* = fracción molar de SO<sub> 2 </sub> en equilibrio<br>\n",
        "\n",
        "Límites de integración:<br>\n",
        "y<sub> s </sub> = fracción molar de SO<sub> 2 </sub> en el tope (salida)<br>\n",
        "y<sub> e </sub> = fracción molar de SO<sub> 2 </sub> en el fondo (entrada)<br>\n",
        "\n",
        "Todos los parámetros, menos la sección de la torre que es constante, son valores que dependen de **y**. La ecuación se puede expresar de la forma:\n",
        "\n",
        "$$Z = \\int_{y_e}^{y_s} f(y)\\;dy$$"
      ]
    },
    {
      "cell_type": "markdown",
      "metadata": {
        "id": "0stm8noIV2Gw"
      },
      "source": [
        "### Consideraciones y valores de referencia"
      ]
    },
    {
      "cell_type": "markdown",
      "metadata": {
        "id": "-MLBo5lDV2Gw"
      },
      "source": [
        "**Consideraciones**\n",
        "\n",
        "* Propiedades del fluido iguales a las del agua pura.\n",
        "* Se puede desestimar la dependencia de la viscosidad del líquido con la temperatura.\n",
        "* La dependencia de la densidad con la temperatura no es desestimable.\n",
        "* Para el cálculo del factor de fricción se debe utilizar la ecuación de Colebrook White.\n",
        "* La cañería es de acero comercial."
      ]
    },
    {
      "cell_type": "markdown",
      "metadata": {
        "id": "H7Ib_h35V2Gw"
      },
      "source": [
        "**Valores de referencia**\n",
        "\n",
        "* La viscosidad del agua es aproximadamente 0,00105 kg/(ms).\n",
        "* Velocidades típicas del agua en cañerias entre 0,5 y 5 m/s.\n",
        "* La rugosidad de una cañería de acero comercial es 0,05 mm.\n",
        "* Rango de temperaturas de operación: 35°C - 60°C"
      ]
    },
    {
      "cell_type": "markdown",
      "metadata": {
        "id": "VMcz6AxvV2Gw"
      },
      "source": [
        "## Procedimiento\n",
        "En la primer parte del trabajo practico se hallaron los valores del número de Reynolds (**Re**), el factor de fricción (**f**) y la pérdida de carga en la cañería para distintos valores de la longitud, diámetro y velocidades promedio del fluido. Para lograrlo se desarrolló una clase \"ProcesoAbsorcion\" que representa al problema y dentro se definieron los métodos necesarios, como \"CalcularFriccion\", \"PerdidaCarga\", entre otros. Luego se definieron los atributos correspondientes y se decidió que aquellos que son variables, el usuario los pueda ingresas a través de un \"input\".\n",
        "\n",
        "Para calcular el coeficiente de fricción, se implementaron métodos numéricos. El primero de ellos fue un método de arranque para acotar el intervalo. Se opto por usar el método de bisección debido a que converge siempre (no se le pide nada a la función f(x) salvo que cumpla f(k-1)*f(k)<0) y que la convergencia depende mucho más de la tolerancia que del intervalo elegido y ya que al ser un método de arranque la tolerancia de este método no será muy alta, no tendrá que realizar un gran número de interacciones para converger. También se codifico el método de Regula Falsi pero al probar con distintos valores de diámetro, se observó que no convergía para todos ellos y se resolvió no implementarlo.\n",
        "\n",
        "El segundo método numérico utilizado fue el método Newton Raphson, se optó implementar este método debido a que es de orden cuadrático y para este caso, no es difícil conocer la derivada de la función.\n",
        "\n",
        "En último lugar, se decidió el criterio de corte y la tolerancia. Para el primer caso, se utilizó el criterio $ \\frac{|x_n - x_{n-1}|}{|x_n|} $ porque para este problema de aplicación resulta ser el más representativo, y para la tolerancia se eligió un valor de $10^{-5}$  ya que nos pareció un criterio razonable con los valores de referencia que se observaron.\n",
        "\n",
        "En la segunda parte del trabajo practico se pedia calcular la perdida de carga para diferentes valores de temperatura a partir de los datos proporcionados en un archivo CSV. La pérdida de carga depende de la densidad del fluido y esta a su vez, es dependiente de la temperatura y, por lo tanto, para conocer el valor de la pérdida para cualquier valor de temperatura será necesario interpolar los datos del CSV.\n",
        "\n",
        "Se analizaron los datos de la tabla otorgada de densidad de fluido con respecto a la temperatura y se observó que algunos datos no eran consistentes físicamente ya que la densidad decae con respecto a la temperatura y en varios puntos no se cumplía esta condición. Se procedió descartando esas mediciones experimentales y se obtuvo la siguiente tabla con los valores actualizados\n",
        "\n"
      ]
    },
    {
      "cell_type": "code",
      "execution_count": null,
      "metadata": {
        "id": "rVOpsP8xV2Gw",
        "outputId": "71e5f686-092c-4b04-d586-6fb357108c6c"
      },
      "outputs": [
        {
          "data": {
            "text/html": [
              "<div>\n",
              "<style scoped>\n",
              "    .dataframe tbody tr th:only-of-type {\n",
              "        vertical-align: middle;\n",
              "    }\n",
              "\n",
              "    .dataframe tbody tr th {\n",
              "        vertical-align: top;\n",
              "    }\n",
              "\n",
              "    .dataframe thead th {\n",
              "        text-align: right;\n",
              "    }\n",
              "</style>\n",
              "<table border=\"1\" class=\"dataframe\">\n",
              "  <thead>\n",
              "    <tr style=\"text-align: right;\">\n",
              "      <th></th>\n",
              "      <th>Temperatura [°C]</th>\n",
              "      <th>Densidad[kg/m3]</th>\n",
              "    </tr>\n",
              "  </thead>\n",
              "  <tbody>\n",
              "    <tr>\n",
              "      <th>0</th>\n",
              "      <td>1</td>\n",
              "      <td>999.70</td>\n",
              "    </tr>\n",
              "    <tr>\n",
              "      <th>1</th>\n",
              "      <td>3</td>\n",
              "      <td>999.98</td>\n",
              "    </tr>\n",
              "    <tr>\n",
              "      <th>2</th>\n",
              "      <td>8</td>\n",
              "      <td>999.91</td>\n",
              "    </tr>\n",
              "    <tr>\n",
              "      <th>3</th>\n",
              "      <td>10</td>\n",
              "      <td>999.77</td>\n",
              "    </tr>\n",
              "    <tr>\n",
              "      <th>4</th>\n",
              "      <td>15</td>\n",
              "      <td>999.19</td>\n",
              "    </tr>\n",
              "    <tr>\n",
              "      <th>5</th>\n",
              "      <td>20</td>\n",
              "      <td>998.29</td>\n",
              "    </tr>\n",
              "    <tr>\n",
              "      <th>6</th>\n",
              "      <td>24</td>\n",
              "      <td>997.38</td>\n",
              "    </tr>\n",
              "    <tr>\n",
              "      <th>7</th>\n",
              "      <td>28</td>\n",
              "      <td>996.31</td>\n",
              "    </tr>\n",
              "    <tr>\n",
              "      <th>8</th>\n",
              "      <td>30</td>\n",
              "      <td>995.72</td>\n",
              "    </tr>\n",
              "    <tr>\n",
              "      <th>9</th>\n",
              "      <td>37</td>\n",
              "      <td>993.37</td>\n",
              "    </tr>\n",
              "    <tr>\n",
              "      <th>10</th>\n",
              "      <td>40</td>\n",
              "      <td>992.25</td>\n",
              "    </tr>\n",
              "    <tr>\n",
              "      <th>11</th>\n",
              "      <td>45</td>\n",
              "      <td>990.22</td>\n",
              "    </tr>\n",
              "    <tr>\n",
              "      <th>12</th>\n",
              "      <td>50</td>\n",
              "      <td>988.02</td>\n",
              "    </tr>\n",
              "    <tr>\n",
              "      <th>13</th>\n",
              "      <td>58</td>\n",
              "      <td>984.16</td>\n",
              "    </tr>\n",
              "    <tr>\n",
              "      <th>14</th>\n",
              "      <td>60</td>\n",
              "      <td>983.13</td>\n",
              "    </tr>\n",
              "    <tr>\n",
              "      <th>15</th>\n",
              "      <td>65</td>\n",
              "      <td>980.45</td>\n",
              "    </tr>\n",
              "    <tr>\n",
              "      <th>16</th>\n",
              "      <td>70</td>\n",
              "      <td>977.63</td>\n",
              "    </tr>\n",
              "    <tr>\n",
              "      <th>17</th>\n",
              "      <td>72</td>\n",
              "      <td>976.47</td>\n",
              "    </tr>\n",
              "  </tbody>\n",
              "</table>\n",
              "</div>"
            ],
            "text/plain": [
              "    Temperatura [°C]  Densidad[kg/m3]\n",
              "0                  1           999.70\n",
              "1                  3           999.98\n",
              "2                  8           999.91\n",
              "3                 10           999.77\n",
              "4                 15           999.19\n",
              "5                 20           998.29\n",
              "6                 24           997.38\n",
              "7                 28           996.31\n",
              "8                 30           995.72\n",
              "9                 37           993.37\n",
              "10                40           992.25\n",
              "11                45           990.22\n",
              "12                50           988.02\n",
              "13                58           984.16\n",
              "14                60           983.13\n",
              "15                65           980.45\n",
              "16                70           977.63\n",
              "17                72           976.47"
            ]
          },
          "execution_count": 11,
          "metadata": {},
          "output_type": "execute_result"
        }
      ],
      "source": [
        "densidadact=pd.read_csv('Densidadactualizada.csv')\n",
        "densidadact"
      ]
    },
    {
      "cell_type": "markdown",
      "metadata": {
        "id": "HTCPrpphV2Gw"
      },
      "source": [
        "Una vez obtenida la tabla de valores actualizados, se decidió implementar la interpolación por trazadores cúbicos, también conocida como Spline, ya que si se hubiese utilizado un polinomio interpolante se presentaría el fenómeno de Runge debido a que son muchos datos (Apéndice I). Se decidió usar el caso de frontera libre porque, aunque se podrían aproximar las derivadas en los extremos, el orden de convergencia de la aproximación seria lineal y como el del Spline es $O(h^4)$ (Excepto en los extremos $O(h^2)$), se introduciría un error mayor.\n",
        "\n",
        "Por último, en la tercera parte del trabajo practico, se pide calcular la altura de una torre absorbedora de gases para lograr una concentración del 0.5% de SO2 teniendo una corriente de aire a la entrada del 20% de concentración de este compuesto. Para calcular la altura es necesario resolver una integral sobre puntos de la siguiente tabla:\n"
      ]
    },
    {
      "cell_type": "code",
      "execution_count": null,
      "metadata": {
        "id": "zm2q4qRZV2Gx",
        "outputId": "ece2429c-2f18-4a52-803b-420094403684"
      },
      "outputs": [
        {
          "data": {
            "text/html": [
              "<div>\n",
              "<style scoped>\n",
              "    .dataframe tbody tr th:only-of-type {\n",
              "        vertical-align: middle;\n",
              "    }\n",
              "\n",
              "    .dataframe tbody tr th {\n",
              "        vertical-align: top;\n",
              "    }\n",
              "\n",
              "    .dataframe thead th {\n",
              "        text-align: right;\n",
              "    }\n",
              "</style>\n",
              "<table border=\"1\" class=\"dataframe\">\n",
              "  <thead>\n",
              "    <tr style=\"text-align: right;\">\n",
              "      <th></th>\n",
              "      <th>y</th>\n",
              "      <th>y-y*</th>\n",
              "      <th>Kya</th>\n",
              "      <th>G/S</th>\n",
              "    </tr>\n",
              "  </thead>\n",
              "  <tbody>\n",
              "    <tr>\n",
              "      <th>0</th>\n",
              "      <td>0.20000</td>\n",
              "      <td>0.103</td>\n",
              "      <td>5.21</td>\n",
              "      <td>8.62</td>\n",
              "    </tr>\n",
              "    <tr>\n",
              "      <th>1</th>\n",
              "      <td>0.18340</td>\n",
              "      <td>0.097</td>\n",
              "      <td>5.04</td>\n",
              "      <td>8.46</td>\n",
              "    </tr>\n",
              "    <tr>\n",
              "      <th>2</th>\n",
              "      <td>0.15125</td>\n",
              "      <td>0.087</td>\n",
              "      <td>4.98</td>\n",
              "      <td>8.31</td>\n",
              "    </tr>\n",
              "    <tr>\n",
              "      <th>3</th>\n",
              "      <td>0.15000</td>\n",
              "      <td>0.084</td>\n",
              "      <td>4.95</td>\n",
              "      <td>8.12</td>\n",
              "    </tr>\n",
              "    <tr>\n",
              "      <th>4</th>\n",
              "      <td>0.10250</td>\n",
              "      <td>0.064</td>\n",
              "      <td>4.74</td>\n",
              "      <td>7.72</td>\n",
              "    </tr>\n",
              "    <tr>\n",
              "      <th>5</th>\n",
              "      <td>0.10000</td>\n",
              "      <td>0.062</td>\n",
              "      <td>4.71</td>\n",
              "      <td>7.67</td>\n",
              "    </tr>\n",
              "    <tr>\n",
              "      <th>6</th>\n",
              "      <td>0.05375</td>\n",
              "      <td>0.038</td>\n",
              "      <td>4.48</td>\n",
              "      <td>7.60</td>\n",
              "    </tr>\n",
              "    <tr>\n",
              "      <th>7</th>\n",
              "      <td>0.05000</td>\n",
              "      <td>0.034</td>\n",
              "      <td>4.46</td>\n",
              "      <td>7.26</td>\n",
              "    </tr>\n",
              "    <tr>\n",
              "      <th>8</th>\n",
              "      <td>0.03700</td>\n",
              "      <td>0.021</td>\n",
              "      <td>4.61</td>\n",
              "      <td>7.12</td>\n",
              "    </tr>\n",
              "    <tr>\n",
              "      <th>9</th>\n",
              "      <td>0.02000</td>\n",
              "      <td>0.016</td>\n",
              "      <td>4.87</td>\n",
              "      <td>7.03</td>\n",
              "    </tr>\n",
              "    <tr>\n",
              "      <th>10</th>\n",
              "      <td>0.00500</td>\n",
              "      <td>0.005</td>\n",
              "      <td>4.82</td>\n",
              "      <td>6.93</td>\n",
              "    </tr>\n",
              "  </tbody>\n",
              "</table>\n",
              "</div>"
            ],
            "text/plain": [
              "          y   y-y*   Kya   G/S\n",
              "0   0.20000  0.103  5.21  8.62\n",
              "1   0.18340  0.097  5.04  8.46\n",
              "2   0.15125  0.087  4.98  8.31\n",
              "3   0.15000  0.084  4.95  8.12\n",
              "4   0.10250  0.064  4.74  7.72\n",
              "5   0.10000  0.062  4.71  7.67\n",
              "6   0.05375  0.038  4.48  7.60\n",
              "7   0.05000  0.034  4.46  7.26\n",
              "8   0.03700  0.021  4.61  7.12\n",
              "9   0.02000  0.016  4.87  7.03\n",
              "10  0.00500  0.005  4.82  6.93"
            ]
          },
          "execution_count": 12,
          "metadata": {},
          "output_type": "execute_result"
        }
      ],
      "source": [
        "datosabsorcion=pd.read_csv('Datos_absorcion.csv')\n",
        "datosabsorcion"
      ]
    },
    {
      "cell_type": "markdown",
      "metadata": {
        "id": "l9S5fRkNV2Gx"
      },
      "source": [
        "En principio se planteó el método de Simpson compuesto con paso uniforme pero rápidamente se vio que este tenía una limitación dado que los datos no estaban, en su mayoría, distribuidos de forma uniforme. A raíz de esto se idearon tres formas distintas para solucionar el problema; La primera fue seguir utilizando el mismo método y desestimar los datos que fuesen necesarios para obtener una tabla de valores de paso uniforme, esta solución es muy practica y sencilla, pero tiene como gran desventaja la imprecisión que introduce utilizar menos datos de los que se otorgan.\n",
        "Como segunda opción se consideró plantear el método de Simpson compuesto pero con paso variable, sin embargo, al implementarlo los resultados no fueron los esperados por lo cual se decidió dejarlo de lado. La última alternativa fue interpolar todos los puntos con el método de Spline y luego aplicar un metodo de interpolacion teniendo más datos de la función."
      ]
    },
    {
      "cell_type": "code",
      "execution_count": null,
      "metadata": {
        "id": "vhCnb8fcV2Gx"
      },
      "outputs": [],
      "source": [
        "######### Librerias #########\n",
        "import numpy as np\n",
        "import pandas as pd\n",
        "import sympy as sp\n",
        "import matplotlib.pyplot as plt\n",
        "from matplotlib.patches import Polygon\n",
        "from ipywidgets import interact, interactive, fixed, interact_manual\n",
        "import ipywidgets as widgets\n",
        "from IPython.display import display, clear_output"
      ]
    },
    {
      "cell_type": "code",
      "execution_count": null,
      "metadata": {
        "id": "30lOM79YV2Gx"
      },
      "outputs": [],
      "source": [
        "######### clase #########\n",
        "\n",
        "class ProcesoAbsorcion:\n",
        "\n",
        "    def __init__ (self):\n",
        "\n",
        "        self.temp=int(input(\"ingrese temperatura entre 35-60 °C: \"))\n",
        "        self.mu=0.00105 #[Kg/ms]\n",
        "        self.ro=998 #valor de referencia\n",
        "        self.epsilon=0.00005 #[m]\n",
        "\n",
        "        self.tol=10**-5\n",
        "        self.itmax= 100\n",
        "\n",
        "        self.diametro= float( input(\"ingrese el diametro [m]:  \"))\n",
        "        self.seccion=1 #float(input('ingrese la sección transversal de la torre de agua [m^2]'))\n",
        "        self.long= float(input (\"ingrese la longitud [m]:  \" ))\n",
        "        self.vel= float(input (\"ingrese la velocidad promedio del fluido [m/s]:  \"))\n",
        "\n",
        "\n",
        "\n",
        "    def FijarTolerancia(self, tol):\n",
        "        self.tol = tol\n",
        "\n",
        "\n",
        "    ######### metodo de arranque #########\n",
        "\n",
        "    def Biseccion(self,a, b,f):\n",
        "\n",
        "        df = pd.DataFrame(columns=('ai','bi','pi','cond'))\n",
        "        a = a\n",
        "        b = b\n",
        "        contador = 0\n",
        "        x0, x1 = a, b\n",
        "\n",
        "        if(f(a) * f(b)>0):\n",
        "            print( \"El método no resuelve este tipo de raíz\")\n",
        "            return 1\n",
        "\n",
        "        while (contador < self.itmax) and (abs((x1 - x0) / x1) > self.tol*1000):\n",
        "            x0 = x1\n",
        "            x1 = (a + b)/2\n",
        "            if f(x1) * f(a) < 0:\n",
        "                df.loc[contador] = [a,b,(a+b)/2,'<0']\n",
        "                b = x1\n",
        "            else:\n",
        "                df.loc[contador] = [a,b,(a+b)/2,'>0']\n",
        "                a = x1\n",
        "            contador += 1\n",
        "\n",
        "        error = abs((x1 - x0) / x1)\n",
        "        return x1\n",
        "\n",
        "    ######### metodo de refinamiento #########\n",
        "\n",
        "    def NewtonRaphson(self,x0,f,fd):\n",
        "\n",
        "        df = pd.DataFrame(columns=('xcero','xuno'))\n",
        "        x0 = x0\n",
        "        contador = 0\n",
        "\n",
        "        if(fd(x0)==0):\n",
        "            return x0\n",
        "        x1 = x0-f(x0)/fd(x0)\n",
        "\n",
        "\n",
        "        while (contador < self.itmax) and (abs((x1 - x0) / x1) > self.tol):\n",
        "            df.loc[contador] = [x0,x1]\n",
        "            x0 = x1\n",
        "\n",
        "            if (x1<0):\n",
        "                print(\"no se pudo obtener la raiz\")\n",
        "                return 1\n",
        "\n",
        "            x1 = x0-f(x0)/fd(x0)\n",
        "            contador += 1\n",
        "\n",
        "        if(contador== self.itmax):\n",
        "            print (\"El programa llego al maximo posible de iteraciones, no logro converger al valor de la raiz con la tolerancia indicada \\n\")\n",
        "\n",
        "\n",
        "        return x1\n",
        "\n",
        "    def finterpolar(self,df):\n",
        "\n",
        "        #Creo una matríz vacía con n filas y n columnas.\n",
        "        matriz = []\n",
        "        y=(df[\"y\"])\n",
        "        for i in range(len(y)):\n",
        "            a = [0]*2\n",
        "            matriz.append(a)\n",
        "\n",
        "        for i in range(len(y)):\n",
        "            matriz[i][0]=y[i]\n",
        "            matriz[i][1]=df[\"G/S\"][i]/((df[\"Kya\"][i]*(1-df[\"y\"][i])*df[\"y-y*\"][i]))\n",
        "\n",
        "        p= pd.DataFrame(matriz, columns = ['y', 'F(y)'])\n",
        "        return p\n",
        "\n",
        "\n",
        "    ######### Metodo de interpolacion #########\n",
        "\n",
        "    def SplineLibre(self,df,x,u):\n",
        "        #u=1 para interpolar densidad\n",
        "        #u=2 para interpolar absorcion\n",
        "\n",
        "        # Genero la matriz A de Spline\n",
        "        n = len(df)\n",
        "        A = np.zeros((n,n))\n",
        "        if(u==1):\n",
        "            Y = df['Densidad[kg/m3]']\n",
        "            X = df['Temperatura [°C]']\n",
        "\n",
        "        if(u==2):\n",
        "            Y = self.finterpolar(df)['F(y)']\n",
        "            X = self.finterpolar(df)['y']\n",
        "\n",
        "        A[0][0] = 1\n",
        "        A[n-1][n-1] = 1\n",
        "        h = np.zeros(n-1)\n",
        "        for i in range(0,n-1):\n",
        "            h[i]=X[i+1]-X[i]\n",
        "        for i in range(1,n-1):\n",
        "            A[i][i-1] = h[i-1]\n",
        "            A[i][i] = 2*(h[i-1]+h[i])\n",
        "            A[i][i+1] = h[i]\n",
        "\n",
        "        # Genero el vector B del sistema Ax=B\n",
        "        B = []\n",
        "        for k in range(0,n):\n",
        "            if (k == 0 or k == n-1):\n",
        "                    B.append(0)\n",
        "            else:\n",
        "                    auxB = (3/h[k])*(Y[k+1] - Y[k]) - (3/h[k-1])*(Y[k] - Y[k-1])\n",
        "                    B.append(auxB)\n",
        "\n",
        "       #Obtengo los coeficientes para armar los trazadores\n",
        "        # Coeficientes ci\n",
        "        c = np.linalg.solve(A, B)\n",
        "\n",
        "        # Coeficientes ai = yi\n",
        "        a=Y\n",
        "\n",
        "        # Coeficientes bi y di.\n",
        "        b,d = [],[]\n",
        "        for i in range(0,n-1):\n",
        "            aux_b = (a[i+1]-a[i])/h[i] - h[i]*(2*c[i]+c[i+1])/3\n",
        "            b.append(aux_b)\n",
        "            aux_d = (c[i+1] - c[i])/(3*h[i])\n",
        "            d.append(aux_d)\n",
        "\n",
        "        # Evalúo x en el segmento que corresponde\n",
        "        si =[]\n",
        "\n",
        "        for k in range(0,n-1):\n",
        "            if (X[k] == x):\n",
        "                si = Y[k]\n",
        "            elif ((x >= X[k] and x <= X[k+1]) or (x <= X[k] and x >= X[k+1])):\n",
        "                si = a[k] + b[k]*(x - X[k]) + c[k]*(x - X[k])**2 + d[k]*(x - X[k])**3\n",
        "\n",
        "        return si\n",
        "\n",
        "    ####### Graficadoras ########\n",
        "\n",
        "    def GraficarCurvaDensidad(self,dfn):\n",
        "        ejex = np.linspace(min(dfn[\"Temperatura [°C]\"]), max(dfn[\"Densidad[kg/m3]\"]),num=1000)\n",
        "        Nx=len(ejex)\n",
        "        y_sp=np.zeros(Nx,dtype='object')\n",
        "\n",
        "        for i in range(0,Nx):\n",
        "                y_sp[i] = self.SplineLibre(dfn,ejex[i],1)\n",
        "\n",
        "        y_spline=pd.to_numeric(y_sp,errors='coerce')\n",
        "        #ploteo el polinomio\n",
        "        plt.plot(ejex, y_spline, linewidth=2, color = 'red')\n",
        "        #ploteo los puntos\n",
        "        plt.scatter(dfn[\"Temperatura [°C]\"],dfn[\"Densidad[kg/m3]\"],color='blue')\n",
        "        plt.legend(['Datos','Spline'],fontsize=10)\n",
        "        plt.ylabel('Densidad[kg/m3]')\n",
        "        plt.title('Polinomio Interpolante con Spline')\n",
        "        plt.xlabel('Temperatura [°C]')\n",
        "        return\n",
        "\n",
        "    def GraficarCurvaAbsorcion(self,df):\n",
        "\n",
        "        ejex = np.linspace(min(self.finterpolar(df)['y']), max(self.finterpolar(df)['y']),num=1000)\n",
        "        Nx=len(ejex)\n",
        "        y_sp=np.zeros(Nx,dtype='object')\n",
        "\n",
        "        for i in range(0,Nx):\n",
        "            y_sp[i] = self.SplineLibre(df,ejex[i],2)\n",
        "\n",
        "        y_spline=pd.to_numeric(y_sp,errors='coerce')\n",
        "\n",
        "        #ploteo el polinomio\n",
        "        plt.plot(ejex, y_spline, linewidth=2, color = 'red')\n",
        "        #ploteo los puntos\n",
        "        plt.scatter(self.finterpolar(df)['y'], self.finterpolar(df)['F(y)'],color='blue')\n",
        "        plt.legend(['Datos','Spline'],fontsize=10)\n",
        "        plt.ylabel('F(y)')\n",
        "        plt.title('Polinomio Interpolante con Spline')\n",
        "        plt.xlabel('y')\n",
        "        return\n",
        "\n",
        "    def graficoActualizar(self,a,b,f,q,k):\n",
        "\n",
        "        ax.clear()\n",
        "\n",
        "        gap = 0.2 * (b-a)\n",
        "\n",
        "        fig.set_figheight(10)\n",
        "        fig.set_figwidth(15)\n",
        "\n",
        "        x = np.linspace(a, b)\n",
        "        y=np.zeros(len(x))\n",
        "\n",
        "        for i in range (0,len(x)):\n",
        "            y[i] = f(x[i])\n",
        "\n",
        "        ax.plot(x, y, 'r', linewidth=1)\n",
        "\n",
        "        ax.set_ylim(bottom=0)\n",
        "\n",
        "        fig.text(0.9, 0.1, '$x$')\n",
        "        fig.text(0.12, 0.9, '$y$')\n",
        "\n",
        "        ax.spines['right'].set_visible(False)\n",
        "        ax.spines['top'].set_visible(False)\n",
        "        ax.xaxis.set_ticks_position('bottom')\n",
        "\n",
        "        ax.set_xticks((a, b))\n",
        "        ax.set_xticklabels(('$a$', '$b$'))\n",
        "        ax.set_yticks([])\n",
        "\n",
        "        h = (b-a) / k\n",
        "\n",
        "        for i in range(0, k):\n",
        "            x0 = a + i*h\n",
        "            x1 = x0 + h\n",
        "\n",
        "             # Cuadratura\n",
        "            xq = np.linspace(x0, x1)\n",
        "            iq = q(xq,x0,x1)\n",
        "            ax.plot(xq, iq, 'k', linewidth=1)\n",
        "\n",
        "            # Función\n",
        "            iy=np.zeros(len(x))\n",
        "            for i in range (0,len(x)-1):\n",
        "                iy[i] = f(xq[i])\n",
        "            ax.fill_between(xq, 0, iq, facecolor='#0099cc', edgecolor ='k')\n",
        "            ax.fill_between(xq, iq, iy, hatch = '//', alpha=0.1)\n",
        "\n",
        "        return\n",
        "\n",
        "\n",
        "    ######### defino la funcion que debo integrar ##########\n",
        "\n",
        "    def fy(self,a,df):\n",
        "\n",
        "        y=(df[\"y\"])\n",
        "        f=0\n",
        "\n",
        "        for i in range(len(y)):\n",
        "             if y[i]==a:\n",
        "                f=df[\"G/S\"][i]/((df[\"Kya\"][i]*(1-df[\"y\"][i])*df[\"y-y*\"][i]))\n",
        "\n",
        "\n",
        "        return(f)\n",
        "\n",
        "    ######### metodos de integracion ##########\n",
        "\n",
        "    def SimpsonC(self,a,b,k,u,df):\n",
        "        #u=1 para tabla reducida\n",
        "        #u=2 para funcion interpolante\n",
        "\n",
        "        #defino el paso\n",
        "        h = (b-a) / (2*k)\n",
        "\n",
        "        if(u==1):\n",
        "            Q = (1/3) * h * self.fy(a,df)\n",
        "            Q += (1/3) * h * self.fy(b,df)\n",
        "\n",
        "        elif(u==2):\n",
        "            Q = (1/3) * h * self.SplineLibre(df,a,2)\n",
        "            Q += (1/3) * h * self.SplineLibre(df,b,2)\n",
        "\n",
        "        for i in range (1,2*k):\n",
        "\n",
        "            if (i % 2 == 0): #par\n",
        "                if(u==1):\n",
        "                    Q += (2/3) * h * self.fy(a+i*h,df)\n",
        "                elif(u==2):\n",
        "                    Q += (2/3) * h * self.SplineLibre(df,a+i*h,2)\n",
        "\n",
        "            else: #impar\n",
        "                if(u==1):\n",
        "                    Q += (4/3) * h * self.fy(a+i*h,df)\n",
        "                elif(u==2):\n",
        "                    Q += (4/3) * h * self.SplineLibre(df,a+i*h,2)\n",
        "\n",
        "        return Q\n",
        "\n",
        "\n",
        "    def Romberg(self,a,b,df,s,k):\n",
        "\n",
        "        R = np.zeros((1,1))\n",
        "        R[0,0] = ((b-a)/2)*(self.fy(a,df)+self.fy(b,df))\n",
        "\n",
        "        for i in range (k):\n",
        "\n",
        "\n",
        "            k = R.shape[0]\n",
        "            R = np.vstack((R,np.zeros((1,k))))\n",
        "            R = np.hstack((R,np.zeros((k+1,1))))\n",
        "\n",
        "            hk = (b-a) / (2**k)\n",
        "\n",
        "            if(s==1):\n",
        "                for i in range (0,2**(k-1)):\n",
        "                    R[k,0] += hk * self.fy(a+(2*i+1)*hk,df)\n",
        "            elif(s==2):\n",
        "                for i in range (0,2**(k-1)):\n",
        "                    R[k,0] += hk * self.SplineLibre(df,a+(2*i+1)*hk,2)\n",
        "\n",
        "            R[k,0] += R[k-1,0] / 2\n",
        "\n",
        "            for j in range (1,k+1):\n",
        "                R[k,j] = R[k,j-1] + (R[k,j-1]-R[k-1,j-1])/(4**j-1)\n",
        "\n",
        "            k = R.shape[0]-1\n",
        "\n",
        "        return R[k,k]\n",
        "\n",
        "\n",
        "\n",
        "\n",
        "    ######### metodos propios de la clase #########\n",
        "\n",
        "\n",
        "    def CalcularFriccion (self,Re):\n",
        "\n",
        "        #Defino la funcion\n",
        "        x = sp.symbols('x')\n",
        "        y=-2*sp.log((self.epsilon/(3.7*self.diametro))+(2.51/(Re*x**0.5)),10)-x**(-0.5)\n",
        "        f=sp.lambdify(x,y)\n",
        "\n",
        "        #calculo la derivada de la funcion\n",
        "        yd = sp.diff(y,x)\n",
        "        fd=sp.lambdify(x,yd)\n",
        "\n",
        "        #aplico metodo de arranque\n",
        "        x0=self.Biseccion(10**(-3),1000,f)\n",
        "\n",
        "        #aplico metodo de refinamiento\n",
        "        ff= self.NewtonRaphson (x0,f,fd)\n",
        "\n",
        "        return ff\n",
        "\n",
        "    def CalcularDensidad(self):\n",
        "\n",
        "        #importo los datos\n",
        "        densidad=pd.read_csv('Densidad.csv')\n",
        "\n",
        "        #calculo la densidad\n",
        "        self.ro= self.SplineLibre(densidad,self.temp,1)\n",
        "\n",
        "\n",
        "        return\n",
        "\n",
        "\n",
        "    def PerdidaCarga(self):\n",
        "\n",
        "        #calculo la densidad\n",
        "        self.CalcularDensidad()\n",
        "        print(\"\\n\\nEl valor de la densidad es: \",self.ro,\"kg/m^3\")\n",
        "\n",
        "        #calculó del numero de Reynolds\n",
        "        Re= self.ro*self.vel*self.diametro/self.mu\n",
        "        print(\"El valor del numero de reynolds es: \",Re)\n",
        "\n",
        "        #calculó del coeficiente de ficcion\n",
        "        ff=self.CalcularFriccion(Re)\n",
        "        print(\"El factor de fraccion es: \" , ff )\n",
        "\n",
        "        #Calculó de la pérdida de carga\n",
        "        per=ff*self.long/self.diametro*(self.vel)**2/2 * self.ro\n",
        "        print(\"La perdida es: \" , per )\n",
        "\n",
        "        return\n",
        "\n",
        "    def CalcularAltura(self,c):\n",
        "\n",
        "        a=0.005#input(\"ingrese la concentracion de SO2 a la salida\")\n",
        "        b=0.2#input(\"ingrese la concentracion de SO2 a la salida\")\n",
        "\n",
        "        if(c==1):\n",
        "            k=int(input(\"introduzca el numero de intervalos \"))\n",
        "            self.altura=self.seccion * self.SimpsonC(a,b,k,1,datosabs1)\n",
        "            res = self.altura\n",
        "\n",
        "        elif(c==2):\n",
        "            k=2\n",
        "            self.altura=self.seccion * self.Romberg(a,b,datosabsorcion,1,k)\n",
        "            res = self.altura\n",
        "\n",
        "        elif (c==3):\n",
        "            k=int(input(\"introduzca el numero de intervalos \"))\n",
        "            self.altura=self.seccion * self.SimpsonC(a,b,k,2,datosabs2)\n",
        "            res = self.altura\n",
        "\n",
        "        elif(c==4):\n",
        "            k=int(input(\"introduzca el numero de iteracciones \"))\n",
        "            self.altura=self.seccion * self.Romberg(a,b,datosabs2,2,k)\n",
        "            res = self.altura\n",
        "\n",
        "\n",
        "\n",
        "        print('\\n\\n La altura de la torre es' , self.altura,'m^2')\n",
        "        return res\n"
      ]
    },
    {
      "cell_type": "markdown",
      "metadata": {
        "id": "RjkHP1mnV2Gx"
      },
      "source": [
        "## Análisis de resultados\n",
        "### 2. Perdida de carga"
      ]
    },
    {
      "cell_type": "markdown",
      "metadata": {
        "id": "uQd7ayHMV2Gx"
      },
      "source": [
        "#### Ejemplo 1\n",
        "$Diametro=0.10\\ m $\n",
        "\n",
        "$Temperatura=50\\ °C$\n",
        "\n",
        "$Longitud=10\\ m $\n",
        "\n",
        "$velocidad\\ promedio\\ del\\ fluido= 5\\ m/s $"
      ]
    },
    {
      "cell_type": "code",
      "execution_count": null,
      "metadata": {
        "id": "pt9wy7V7V2Gx",
        "outputId": "8917d2a0-3f46-4ac6-b562-290127ed146b"
      },
      "outputs": [
        {
          "name": "stdout",
          "output_type": "stream",
          "text": [
            "ingrese temperatura entre 35-60 °C: 50\n",
            "ingrese el diametro [m]:  0.1\n",
            "ingrese la longitud [m]:  1\n",
            "ingrese la velocidad promedio del fluido [m/s]:  5\n",
            "\n",
            "\n",
            "El valor de la densidad es:  988.02 kg/m^3\n",
            "El valor del numero de reynolds es:  470485.7142857144\n",
            "El factor de fraccion es:  0.01771699339081513\n",
            "La perdida es:  2188.0929762491455\n"
          ]
        }
      ],
      "source": [
        "ejemplo1=ProcesoAbsorcion()\n",
        "ejemplo1.PerdidaCarga()"
      ]
    },
    {
      "cell_type": "markdown",
      "metadata": {
        "id": "f1vr8sZbV2Gx"
      },
      "source": [
        "#### Ejemplo 2\n",
        "$Diametro=0.15\\ m $\n",
        "\n",
        "$Temperatura=30\\ °C$\n",
        "\n",
        "$Longitud=20\\ m $\n",
        "\n",
        "$velocidad\\ promedio\\ del\\ fluido= 7\\ m/s $"
      ]
    },
    {
      "cell_type": "code",
      "execution_count": null,
      "metadata": {
        "id": "wcaQLnzLV2Gy",
        "outputId": "786e8732-acc0-4ecb-dc94-e59f609dddf8"
      },
      "outputs": [
        {
          "name": "stdout",
          "output_type": "stream",
          "text": [
            "ingrese temperatura entre 35-60 °C: 50\n",
            "ingrese el diametro [m]:  0.1\n",
            "ingrese la longitud [m]:  3\n",
            "ingrese la velocidad promedio del fluido [m/s]:  5\n",
            "\n",
            "\n",
            "El valor de la densidad es:  988.02 kg/m^3\n",
            "El valor del numero de reynolds es:  470485.7142857144\n",
            "El factor de fraccion es:  0.01771699339081513\n",
            "La perdida es:  6564.278928747436\n"
          ]
        }
      ],
      "source": [
        "ejemplo2=ProcesoAbsorcion()\n",
        "ejemplo2.PerdidaCarga()"
      ]
    },
    {
      "cell_type": "markdown",
      "metadata": {
        "id": "NxRBljaUV2Gy"
      },
      "source": [
        "Se puede ver que el grafico de la curva que interpola los datos de la densidad respecto de la temperatura es:"
      ]
    },
    {
      "cell_type": "code",
      "execution_count": null,
      "metadata": {
        "id": "ELFtzQ5WV2Gy",
        "outputId": "7b2ac43e-0134-4360-b396-3ae0159435e1"
      },
      "outputs": [
        {
          "data": {
            "image/png": "[encoded data removed]",
            "text/plain": [
              "<Figure size 432x288 with 1 Axes>"
            ]
          },
          "metadata": {
            "needs_background": "light"
          },
          "output_type": "display_data"
        }
      ],
      "source": [
        "ejemplo1.GraficarCurvaDensidad(densidadact)"
      ]
    },
    {
      "cell_type": "markdown",
      "metadata": {
        "id": "ygR1ZR5YV2Gy"
      },
      "source": [
        "### 2. Calculo de la altura"
      ]
    },
    {
      "cell_type": "markdown",
      "metadata": {
        "id": "yshkaEgOV2Gy"
      },
      "source": [
        "#### Ejemplo\n",
        "\n",
        "$Sección\\ =1 \\ m^2 $\n"
      ]
    },
    {
      "cell_type": "code",
      "execution_count": null,
      "metadata": {
        "id": "aclJ8-gJV2Gy",
        "outputId": "1288bcc7-2cba-4a28-9e52-9aba8775bd94"
      },
      "outputs": [
        {
          "name": "stdout",
          "output_type": "stream",
          "text": [
            "ingrese temperatura entre 35-60 °C: 50\n",
            "ingrese el diametro [m]:  0.1\n",
            "ingrese la longitud [m]:  3\n",
            "ingrese la velocidad promedio del fluido [m/s]:  8\n"
          ]
        }
      ],
      "source": [
        "ejemplo=ProcesoAbsorcion()"
      ]
    },
    {
      "cell_type": "markdown",
      "metadata": {
        "id": "AUalFZ5oV2Gy"
      },
      "source": [
        "En esta sección se utilizó una variable de control $C$ para seleccionar el método de integración por el cual se quiere calcular la altura de la torre de agua siendo:\n",
        "ó\n",
        "* C=1 : método de Simpson sin interpolación\n",
        "\n",
        "* C=2 : método de Romberg sin interpolación\n",
        "\n",
        "* C=3 : método de Simpson con interpolación\n",
        "\n",
        "* C=4 : método de Romberg con interpolación"
      ]
    },
    {
      "cell_type": "markdown",
      "metadata": {
        "id": "CgpO9c05V2Gy"
      },
      "source": [
        "###### Primer caso ($C=1$)\n",
        "\n",
        "En el primer caso  obtendremos la altura de la torre con el método de Simpson desestimando los datos necesarios para que este funcione correctamente. La tabla entonces será:"
      ]
    },
    {
      "cell_type": "code",
      "execution_count": null,
      "metadata": {
        "id": "djm5N3DiV2Gy",
        "outputId": "fa02dcc5-c931-4804-f76e-1da1cd4d459e"
      },
      "outputs": [
        {
          "data": {
            "text/html": [
              "<div>\n",
              "<style scoped>\n",
              "    .dataframe tbody tr th:only-of-type {\n",
              "        vertical-align: middle;\n",
              "    }\n",
              "\n",
              "    .dataframe tbody tr th {\n",
              "        vertical-align: top;\n",
              "    }\n",
              "\n",
              "    .dataframe thead th {\n",
              "        text-align: right;\n",
              "    }\n",
              "</style>\n",
              "<table border=\"1\" class=\"dataframe\">\n",
              "  <thead>\n",
              "    <tr style=\"text-align: right;\">\n",
              "      <th></th>\n",
              "      <th>y</th>\n",
              "      <th>y-y*</th>\n",
              "      <th>Kya</th>\n",
              "      <th>G/S</th>\n",
              "    </tr>\n",
              "  </thead>\n",
              "  <tbody>\n",
              "    <tr>\n",
              "      <th>0</th>\n",
              "      <td>0.20000</td>\n",
              "      <td>0.103</td>\n",
              "      <td>5.21</td>\n",
              "      <td>8.62</td>\n",
              "    </tr>\n",
              "    <tr>\n",
              "      <th>1</th>\n",
              "      <td>0.15125</td>\n",
              "      <td>0.087</td>\n",
              "      <td>4.98</td>\n",
              "      <td>8.31</td>\n",
              "    </tr>\n",
              "    <tr>\n",
              "      <th>2</th>\n",
              "      <td>0.10250</td>\n",
              "      <td>0.064</td>\n",
              "      <td>4.74</td>\n",
              "      <td>7.72</td>\n",
              "    </tr>\n",
              "    <tr>\n",
              "      <th>3</th>\n",
              "      <td>0.05375</td>\n",
              "      <td>0.038</td>\n",
              "      <td>4.48</td>\n",
              "      <td>7.60</td>\n",
              "    </tr>\n",
              "    <tr>\n",
              "      <th>4</th>\n",
              "      <td>0.00500</td>\n",
              "      <td>0.005</td>\n",
              "      <td>4.82</td>\n",
              "      <td>6.93</td>\n",
              "    </tr>\n",
              "  </tbody>\n",
              "</table>\n",
              "</div>"
            ],
            "text/plain": [
              "         y   y-y*   Kya   G/S\n",
              "0  0.20000  0.103  5.21  8.62\n",
              "1  0.15125  0.087  4.98  8.31\n",
              "2  0.10250  0.064  4.74  7.72\n",
              "3  0.05375  0.038  4.48  7.60\n",
              "4  0.00500  0.005  4.82  6.93"
            ]
          },
          "execution_count": 19,
          "metadata": {},
          "output_type": "execute_result"
        }
      ],
      "source": [
        "datosabs1=pd.read_csv('Datos_absorcion_actualizada.csv')\n",
        "datosabs1"
      ]
    },
    {
      "cell_type": "markdown",
      "metadata": {
        "id": "BJhab3kpV2Gy"
      },
      "source": [
        "Se puede observar que con la definicion de paso de nuestra funcion ($h=\\frac{b-a}{2\\cdot k}$) los unicos valores permitidos de k son $k=1$ y $k=2$. Lo que hicimos para lograr que funcione el codigo al no tener todos los valores de la funcion, sino que teniamos 11 valores en la tabla, fue tomar solo los valores que nos permitian que al calcular el paso con 1 o 2 cantidad de intervalos, nos de como resultado el siguiente valor conocido."
      ]
    },
    {
      "cell_type": "code",
      "execution_count": null,
      "metadata": {
        "id": "3KJlIig-V2Gy",
        "outputId": "21b1deed-773d-4ab6-c12f-a00f7a1b6967"
      },
      "outputs": [
        {
          "name": "stdout",
          "output_type": "stream",
          "text": [
            "introduzca el numero de intervalos 2\n",
            "\n",
            "\n",
            " La altura de la torre es 9.557978036109219 m^2\n"
          ]
        }
      ],
      "source": [
        "c1 = ejemplo.CalcularAltura(1)"
      ]
    },
    {
      "cell_type": "markdown",
      "metadata": {
        "id": "RhGSsMdMV2Gy"
      },
      "source": [
        "###### Segundo caso ($C=2$)\n",
        "En este caso se buscara el valor por el metodo de Romberg en el cual se utilizaran 2 aproximaciones debido a la cantidad de puntos con los que se cuenta."
      ]
    },
    {
      "cell_type": "code",
      "execution_count": null,
      "metadata": {
        "id": "C8S55hyqV2Gz",
        "outputId": "e50d3226-5ce0-4b28-a64c-6ac2bc19e33d"
      },
      "outputs": [
        {
          "name": "stdout",
          "output_type": "stream",
          "text": [
            "\n",
            "\n",
            " La altura de la torre es 9.52551220182845 m^2\n"
          ]
        }
      ],
      "source": [
        "c2 = ejemplo.CalcularAltura(2)"
      ]
    },
    {
      "cell_type": "markdown",
      "metadata": {
        "id": "UwmpwlXVV2Gz"
      },
      "source": [
        "###### Tercer caso ($C=3$)\n",
        "Para el tercer caso se realizará una interpolación de los puntos de la tabla completa para poder obtener más valores de la función respecto a los valores de y.\n"
      ]
    },
    {
      "cell_type": "code",
      "execution_count": null,
      "metadata": {
        "id": "hp9_WdHyV2Gz",
        "outputId": "04e0ccd7-fec2-4b5d-d545-d21f8e00b33f"
      },
      "outputs": [
        {
          "data": {
            "text/html": [
              "<div>\n",
              "<style scoped>\n",
              "    .dataframe tbody tr th:only-of-type {\n",
              "        vertical-align: middle;\n",
              "    }\n",
              "\n",
              "    .dataframe tbody tr th {\n",
              "        vertical-align: top;\n",
              "    }\n",
              "\n",
              "    .dataframe thead th {\n",
              "        text-align: right;\n",
              "    }\n",
              "</style>\n",
              "<table border=\"1\" class=\"dataframe\">\n",
              "  <thead>\n",
              "    <tr style=\"text-align: right;\">\n",
              "      <th></th>\n",
              "      <th>y</th>\n",
              "      <th>y-y*</th>\n",
              "      <th>Kya</th>\n",
              "      <th>G/S</th>\n",
              "    </tr>\n",
              "  </thead>\n",
              "  <tbody>\n",
              "    <tr>\n",
              "      <th>0</th>\n",
              "      <td>0.20000</td>\n",
              "      <td>0.103</td>\n",
              "      <td>5.21</td>\n",
              "      <td>8.62</td>\n",
              "    </tr>\n",
              "    <tr>\n",
              "      <th>1</th>\n",
              "      <td>0.18340</td>\n",
              "      <td>0.097</td>\n",
              "      <td>5.04</td>\n",
              "      <td>8.46</td>\n",
              "    </tr>\n",
              "    <tr>\n",
              "      <th>2</th>\n",
              "      <td>0.15125</td>\n",
              "      <td>0.087</td>\n",
              "      <td>4.98</td>\n",
              "      <td>8.31</td>\n",
              "    </tr>\n",
              "    <tr>\n",
              "      <th>3</th>\n",
              "      <td>0.15000</td>\n",
              "      <td>0.084</td>\n",
              "      <td>4.95</td>\n",
              "      <td>8.12</td>\n",
              "    </tr>\n",
              "    <tr>\n",
              "      <th>4</th>\n",
              "      <td>0.10250</td>\n",
              "      <td>0.064</td>\n",
              "      <td>4.74</td>\n",
              "      <td>7.72</td>\n",
              "    </tr>\n",
              "    <tr>\n",
              "      <th>5</th>\n",
              "      <td>0.10000</td>\n",
              "      <td>0.062</td>\n",
              "      <td>4.71</td>\n",
              "      <td>7.67</td>\n",
              "    </tr>\n",
              "    <tr>\n",
              "      <th>6</th>\n",
              "      <td>0.05375</td>\n",
              "      <td>0.038</td>\n",
              "      <td>4.48</td>\n",
              "      <td>7.60</td>\n",
              "    </tr>\n",
              "    <tr>\n",
              "      <th>7</th>\n",
              "      <td>0.05000</td>\n",
              "      <td>0.034</td>\n",
              "      <td>4.46</td>\n",
              "      <td>7.26</td>\n",
              "    </tr>\n",
              "    <tr>\n",
              "      <th>8</th>\n",
              "      <td>0.03700</td>\n",
              "      <td>0.021</td>\n",
              "      <td>4.61</td>\n",
              "      <td>7.12</td>\n",
              "    </tr>\n",
              "    <tr>\n",
              "      <th>9</th>\n",
              "      <td>0.02000</td>\n",
              "      <td>0.016</td>\n",
              "      <td>4.87</td>\n",
              "      <td>7.03</td>\n",
              "    </tr>\n",
              "    <tr>\n",
              "      <th>10</th>\n",
              "      <td>0.00500</td>\n",
              "      <td>0.005</td>\n",
              "      <td>4.82</td>\n",
              "      <td>6.93</td>\n",
              "    </tr>\n",
              "  </tbody>\n",
              "</table>\n",
              "</div>"
            ],
            "text/plain": [
              "          y   y-y*   Kya   G/S\n",
              "0   0.20000  0.103  5.21  8.62\n",
              "1   0.18340  0.097  5.04  8.46\n",
              "2   0.15125  0.087  4.98  8.31\n",
              "3   0.15000  0.084  4.95  8.12\n",
              "4   0.10250  0.064  4.74  7.72\n",
              "5   0.10000  0.062  4.71  7.67\n",
              "6   0.05375  0.038  4.48  7.60\n",
              "7   0.05000  0.034  4.46  7.26\n",
              "8   0.03700  0.021  4.61  7.12\n",
              "9   0.02000  0.016  4.87  7.03\n",
              "10  0.00500  0.005  4.82  6.93"
            ]
          },
          "execution_count": 22,
          "metadata": {},
          "output_type": "execute_result"
        }
      ],
      "source": [
        "datosabs2=pd.read_csv('Datos_absorcion.csv')\n",
        "datosabs2"
      ]
    },
    {
      "cell_type": "markdown",
      "metadata": {
        "id": "086e44EbV2Gz"
      },
      "source": [
        "La interpolación se hará con el método de Spline por motivos similares a los analizados en la sección anterior, es decir, para no introducir fenómeno de Runge y porque este consta de una convergencia de orden cuarto.\n",
        "\n",
        "Es muy importante notar que al igual que el método de Spline, el de Simpson es de orden cuarto y, por lo tanto, no tiene sentido aumentar en gran cantidad los intervalos del mismo ya que esto requerirá mucho más costo computacional, pero sin embargo el resultado no tendrá mucha más precisión debido al error introducido a la hora de interpolar.\n",
        "\n",
        "La interpolacion entonces queda;"
      ]
    },
    {
      "cell_type": "code",
      "execution_count": null,
      "metadata": {
        "id": "kz05CeL5V2Gz",
        "outputId": "c3e20d83-977f-4746-efd0-27b5709b700f"
      },
      "outputs": [
        {
          "data": {
            "image/png": "[encoded data removed]",
            "text/plain": [
              "<Figure size 432x288 with 1 Axes>"
            ]
          },
          "metadata": {
            "needs_background": "light"
          },
          "output_type": "display_data"
        }
      ],
      "source": [
        "ejemplo.GraficarCurvaAbsorcion(datosabs2)"
      ]
    },
    {
      "cell_type": "markdown",
      "metadata": {
        "id": "RjhHTHiEV2Gz"
      },
      "source": [
        "Los resultados obtenidos se pueden observar en el siguiente gráfico:"
      ]
    },
    {
      "cell_type": "code",
      "execution_count": null,
      "metadata": {
        "id": "hnk8CKRGV2G0",
        "outputId": "1f349224-fc6a-4887-def5-c00478267080",
        "colab": {
          "referenced_widgets": [
            "cecee1c7dc76471394b5a6d2f4f6ef99"
          ]
        }
      },
      "outputs": [
        {
          "data": {
            "image/png": "[encoded data removed]",
            "text/plain": [
              "<Figure size 1080x720 with 1 Axes>"
            ]
          },
          "metadata": {},
          "output_type": "display_data"
        },
        {
          "data": {
            "application/vnd.jupyter.widget-view+json": {
              "model_id": "cecee1c7dc76471394b5a6d2f4f6ef99",
              "version_major": 2,
              "version_minor": 0
            },
            "text/plain": [
              "IntSlider(value=5, description='Intervalos', max=10, min=1)"
            ]
          },
          "metadata": {},
          "output_type": "display_data"
        },
        {
          "name": "stdout",
          "output_type": "stream",
          "text": [
            "Aproximación 8.83256063680719\n"
          ]
        }
      ],
      "source": [
        "def f(x):\n",
        "    return ejemplo.SplineLibre(datosabs2,x,2)\n",
        "\n",
        "def q(x,a,b):\n",
        "    h = (b-a)/2\n",
        "    F01 = (f(a+h) - f(a)) / h\n",
        "    F12 = (f(b) - f(a+h)) / h\n",
        "    F012 = (F12 - F01) / (2*h)\n",
        "    return f(a) + F01 * (x-a) + F012 * (x-a) * (x-(a+h))\n",
        "\n",
        "slider = widgets.IntSlider(value=1, min=1, max=10, step=1, description=('Intervalos'));\n",
        "c3_k = [0,0,0,0,0,0,0,0,0,0]\n",
        "def on_slider_change(change):\n",
        "    clear_output(wait=True)\n",
        "    k = change['new']\n",
        "    ejemplo.graficoActualizar(0.005,0.2,f,q,k)\n",
        "    display (fig)\n",
        "    display (slider)\n",
        "\n",
        "    i = 1\n",
        "    while i != 10:\n",
        "        c3_k[i] = ejemplo.SimpsonC(0.005,0.2,i,2,datosabs2)\n",
        "        i = i + 1\n",
        "    print ('Aproximación', ejemplo.SimpsonC(0.005,0.2,k,2,datosabs2))\n",
        "\n",
        "\n",
        "slider.observe(on_slider_change, names='value')\n",
        "\n",
        "fig, ax = plt.subplots()\n",
        "plt.close(fig)\n",
        "\n",
        "on_slider_change({'new':1})\n"
      ]
    },
    {
      "cell_type": "code",
      "execution_count": null,
      "metadata": {
        "id": "bgmf7pT_V2G0",
        "outputId": "8b343b5f-718f-4c85-ba4c-f671e8615627"
      },
      "outputs": [
        {
          "name": "stdout",
          "output_type": "stream",
          "text": [
            "Ingresar numero de intervalos: 8\n",
            "9.020065840246318\n"
          ]
        }
      ],
      "source": [
        "#para hacerlo numericamente sin el slider#\n",
        "intervalos = input(\"Ingresar numero de intervalos: \")\n",
        "print(c3_k[int(intervalos)])"
      ]
    },
    {
      "cell_type": "markdown",
      "metadata": {
        "id": "QShpUsMTV2G0"
      },
      "source": [
        "###### Cuarto caso ($C=4$)\n",
        "\n",
        "Para este caso se utilizo el metodo de interpolacion de Romberg teniendo en cuenta nuevamente que tiene orden de convergencia cuarto y que no sera necesario realizar tantas iteracciones por el error introducido al interpolar."
      ]
    },
    {
      "cell_type": "code",
      "execution_count": null,
      "metadata": {
        "id": "JCK5ACKxV2G0",
        "outputId": "77db364a-3e2e-44d0-fdfb-c743432ca050"
      },
      "outputs": [
        {
          "name": "stdout",
          "output_type": "stream",
          "text": [
            "introduzca el numero de iteracciones 8\n",
            "\n",
            "\n",
            " La altura de la torre es 9.041326325886974 m^2\n"
          ]
        }
      ],
      "source": [
        "c4= ejemplo.CalcularAltura(4)"
      ]
    },
    {
      "cell_type": "code",
      "execution_count": null,
      "metadata": {
        "id": "Jv6r6atpV2G0",
        "outputId": "2883e004-aea1-4caa-be8a-aa8d72010edd"
      },
      "outputs": [
        {
          "name": "stdout",
          "output_type": "stream",
          "text": [
            "El error relativo de simpson sin interpolar y romberg es: 0.3408303258961464 %\n"
          ]
        }
      ],
      "source": [
        "errorRelativo = 100*(abs(c2-c1)/c2)\n",
        "print(\"El error relativo de simpson sin interpolar y romberg es:\", errorRelativo , \"%\")"
      ]
    },
    {
      "cell_type": "code",
      "execution_count": null,
      "metadata": {
        "id": "5QLMMcHTV2G0",
        "outputId": "452bbbd4-3a1e-4027-9c9b-cb024157c9ea"
      },
      "outputs": [
        {
          "name": "stdout",
          "output_type": "stream",
          "text": [
            "El error relativo de simpson interpolado con 8 intervalos y romberg con 3 intervalos es: 0.23514786298315266 %\n"
          ]
        }
      ],
      "source": [
        "errorRelativo = 100*(abs(c4-(c3_k[8]))/c4)\n",
        "print(\"El error relativo de simpson interpolado con 8 intervalos y romberg con 3 intervalos es:\", errorRelativo , \"%\")"
      ]
    },
    {
      "cell_type": "code",
      "execution_count": null,
      "metadata": {
        "id": "HA5nIhuMV2G0",
        "outputId": "69202fa6-c703-420b-f4d4-481b9e223ff8"
      },
      "outputs": [
        {
          "name": "stdout",
          "output_type": "stream",
          "text": [
            "El error relativo de simpson interpolado con 8 intervalos y romberg sin interpolar : 5.306238141032567 %\n"
          ]
        }
      ],
      "source": [
        "errorRelativo = 100*(abs(c2-(c3_k[8]))/c2)\n",
        "print(\"El error relativo de simpson interpolado con 8 intervalos y romberg sin interpolar :\", errorRelativo , \"%\")"
      ]
    },
    {
      "cell_type": "markdown",
      "metadata": {
        "id": "q4NSM61pV2G0"
      },
      "source": [
        "## Conclusión\n",
        "\n",
        "Una vez terminado el trabajo, se pueden obtener conclusiones acerca de cada etapa de el mismo. En primer lugar, para obtener el factor de fricción con la ecuación no lineal de Colebrook-White fue necesario plantear un método numérico de resolución de ecuaciones no lineales de arranque y uno de refinamiento. Se realizo de esta manera debido a que, si solamente se usara un método de arranque, la cantidad de iteraciones necesarias para obtener un resultado con poco error podría ser muy alta, en cambio, si se utilizara solo un método de refinamiento el valor semilla podría estar muy alejado del resultado buscado y el método podría diverger.  Lo que se hace, entonces, es acercarse al valor semilla con el método de arranque con una tolerancia grande, así converge en pocas iteraciones.  A este valor semilla hallado lo utilizamos en el método de refinamiento, que es de convergencia cuadrática, para finalmente hallar el valor buscado.\n",
        "\n",
        "Se decidió implementar como método de arranque el de bisección ya que es un método sumamente sencillo, que le exige muy pocas condiciones a la función (f(a) * f(b) < 0) y porque, mas allá de que tenga un orden de convergencia bajo, depende de la tolerancia, y al ser un método de arranque, es alta. Por otro lado, para el método de refinamiento se utilizó el método de Newton-Raphson debido a que su convergencia es cuadrática, y para esta aplicación en particular, no es difícil conocer su derivada y no se anula en el intervalo. Se consideraron otros métodos, pero ya sea por tener un orden de convergencia inferior o por exigirle más condiciones a la función, se decidió que esta combinación era la más adecuada.\n",
        "\n",
        "Para la segunda parte era necesario interpolar los valores de la viscosidad de un archivo CSV. Se decidió utilizar el método de trazadores cúbicos o Spline debido a que, como se vio en el Apéndice I, para otros métodos que calculan el polinomio interpolante, el fenómeno de Runge tenía una gran incidencia. Es importante notar que el método nombrado \"SplineLibre\" consiste en la obtención y posterior resolución de una matriz cuadrada, rala, estrictamente diagonal dominante y no simétrica. Para resolver el sistema de ecuaciones lineales se utilizó la factorización por Doolittle, sin embargo, se podrían haber aplicado métodos iterativos estacionarios, como Jacobi o Gauss Seidel, ya que la matriz cumple con las condiciones pedidas. Para usar un método iterativo no estacionario, se debería verificar, además, que la matriz sea definida positiva, lo cual se podría lograr si se resuelve el sistema utilizando la matriz transpuesta como $A^TA*x = A^TB$ y luego se vuelve al sistema original.\n",
        "\n",
        "Para la tercer y última parte del trabajo, se tuvo que calcular la altura necesaria de la torre para cumplir con las especificaciones dadas en un archivo CSV. Se pedía resolver una integral sobre los datos con un método compuesto y luego con el de la extrapolación de Richardson y comparar los resultados obtenidos. En primer lugar se decidió utilizar el método de Simpson compuesto con paso uniforme dado que es de orden de convergencia cuarto, pero se notó que tenía una gran limitación dado que los datos no estaban distribuidos uniformemente en su gran mayoría. Se plantearon las tres alternativas explicadas anteriormente, de las cuales se implementaron el método de Simpson con paso uniforme, el método de Romberg y luego la interpolación para obtener más puntos y así poder aplicar los métodos con un intervalo menor. Es importante volver a remarcar que una vez obtenido el polinomio interpolante no resulta útil aumentar el paso de forma indefinida ya que esto requerirá un gran costo computacional y, sin embargo, el método de interpolación (Spline) es de orden cuarto y, por lo cual, el resultado no tendrá mucha más precisión.\n",
        "\n",
        "Por último, se analizarán los resultados obtenidos para los distintos métodos de integración; En primer lugar, se observó que la diferencia entre los resultados del método de Simpson compuesto y el de Romberg son muy similares, esto se puede explicar fácilmente ya que ambos métodos tienen un orden de error proporcional a la derivada cuarta de la función. Por otro lado, se encuentra una diferencia mayor comparando los resultados al interpolar respecto a los resultados obtenidos anteriormente, esta diferencia se puede entender por el error propio que introduce interpolar una función con una cantidad limitada de puntos.\n",
        "\n",
        "Ya culminado el análisis podemos concluir que los métodos en los cuales se usó una interpolación de curva no son útiles a la hora de resolver el problema debido a que exigen más costo computacional, no es conveniente reducir en gran cantidad el paso por lo explicado anteriormente y los resultados no son mejores por el error incorporado al interpolar. Por otro lado, los métodos de Simpson y Romberg mas allá de tener que utilizar menos datos de los disponibles otorgan buenos resultados, sin embargo, el método de Simpson tiene la desventaja de que al reducir el paso debemos calcular todos los valores, menos lo de los extremos, nuevamente.\n",
        "\n",
        "Finalmente podemos concluir que la realización de este trabajo posibilito el traslado de los conceptos teóricos adquiridos durante la materia a una aplicación concreta. Se tuvieron que utilizar métodos de resolución de ecuaciones no lineales, interpolación, resolución de ecuaciones lineales e integración y a su vez decidir entre varias alternativas teniendo en cuenta no solo cual era más exacta, sino también cual era más conveniente respecto a la exigencia y el costo. también se obtuvo experiencia en el uso de la herramienta \"Júpyter Notebook\" y en la programación orientada a objetos.\n",
        "\n",
        "\n",
        "\n"
      ]
    },
    {
      "cell_type": "markdown",
      "metadata": {
        "id": "jiKDpPqfV2G0"
      },
      "source": [
        "## Apéndice I\n",
        "### Fenómeno de Runge"
      ]
    },
    {
      "cell_type": "markdown",
      "metadata": {
        "id": "FjUeyiS_V2G1"
      },
      "source": [
        "   El fenómeno de Runge es un problema que sucede cuando se usa interpolación polinómica con polinomios de alto grado, generalmente utilizando puntos equidistantes. En el análisis de este trabajo en particular, se observó que, al tener 17 datos experimentales, el polinomio interpolante resultante iba a ser de grado 16, es decir el polinomio seria de grado alto. Sin embargo, también se notó que los datos no estaban uniformemente distribuidos.\n",
        "  \n",
        "  Se realizo una prueba que consistió en buscar el polinomio interpolante con el método de Larange baricentrico y ver la incidencia del fenómeno de Runge en nuestros resultados. Como se observa en el grafico \"fenómeno de Runge\" este afecta de gran manera al polinomio interpolante, en los extremos toma valores que no son consistentes con los datos obtenidos experimentalmente.\n"
      ]
    },
    {
      "cell_type": "code",
      "execution_count": null,
      "metadata": {
        "id": "WtXL41xwV2G1",
        "outputId": "4b3e6073-8f94-458b-fb87-67f7e121f22f"
      },
      "outputs": [
        {
          "data": {
            "image/png": "[encoded data removed]",
            "text/plain": [
              "<Figure size 432x288 with 1 Axes>"
            ]
          },
          "metadata": {
            "needs_background": "light"
          },
          "output_type": "display_data"
        }
      ],
      "source": [
        "######## Defino el metodo baricentrico de Lagrange #######\n",
        "\n",
        "def LagrangeBaricentricoPlot (df,x):\n",
        "    N=len(df)\n",
        "    W=np.zeros(N)\n",
        "    P=0\n",
        "    L=1\n",
        "    PB=0\n",
        "    for i in range (0,N):\n",
        "        if x==df[\"Temperatura [°C]\"][i]:\n",
        "            return df[\"Temperatura [°C]\"][i]\n",
        "        L*=x-df[\"Temperatura [°C]\"][i]\n",
        "        w=1\n",
        "        for j in range (0,N):\n",
        "            if j != i:\n",
        "                 w*=1/(df[\"Temperatura [°C]\"][i]-df[\"Temperatura [°C]\"][j])\n",
        "        W[i]=w\n",
        "        P+=(w*df[\"Densidad[kg/m3]\"][i])/(x-df[\"Temperatura [°C]\"][i])\n",
        "    PB=L*P\n",
        "    return PB\n",
        "\n",
        "####### Grafico el polinomio interpolante ##########\n",
        "\n",
        "ejex = np.linspace(min(densidad[\"Temperatura [°C]\"])*0.9, max(densidad[\"Temperatura [°C]\"])*1,num=1000)\n",
        "Nx=len(ejex)\n",
        "y_pl=np.zeros(Nx)\n",
        "y_plb=np.zeros(Nx)\n",
        "\n",
        "for i in range(0,Nx):\n",
        "    y_plb[i] = LagrangeBaricentricoPlot(densidad,ejex[i]);\n",
        "\n",
        "plt.ylabel('Densidad[kg/m3]')\n",
        "plt.xlabel('Temperatura [°C]')\n",
        "plt.plot(ejex, y_plb, linewidth=2, color = 'red')\n",
        "plt.scatter(densidad[\"Temperatura [°C]\"], densidad[\"Densidad[kg/m3]\"], color = 'blue')\n",
        "plt.legend(['Lagrange Baricéntrico','Datos','limite','dato'],fontsize=10)\n",
        "plt.title('Fenomeno de Runge');"
      ]
    },
    {
      "cell_type": "code",
      "execution_count": null,
      "metadata": {
        "id": "BhEeINRvV2G1"
      },
      "outputs": [],
      "source": []
    }
  ],
  "metadata": {
    "celltoolbar": "Slideshow",
    "kernelspec": {
      "display_name": "Python 3",
      "language": "python",
      "name": "python3"
    },
    "language_info": {
      "codemirror_mode": {
        "name": "ipython",
        "version": 3
      },
      "file_extension": ".py",
      "mimetype": "text/x-python",
      "name": "python",
      "nbconvert_exporter": "python",
      "pygments_lexer": "ipython3",
      "version": "3.8.3"
    },
    "colab": {
      "provenance": []
    }
  },
  "nbformat": 4,
  "nbformat_minor": 0
}